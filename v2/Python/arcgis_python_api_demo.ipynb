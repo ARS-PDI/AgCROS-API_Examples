{
 "cells": [
  {
   "cell_type": "markdown",
   "source": [
    "# ArcGIS Python API Demo File\r\n",
    "\r\n",
    "A short Jupyter Notebook showing how to query data from ArcGIS servers.\r\n",
    "\r\n",
    "ArcGIS API for Python Reference: https://developers.arcgis.com/python/api-reference/index.html\r\n",
    "\r\n",
    "Author: Josh Birlingmair"
   ],
   "metadata": {}
  },
  {
   "cell_type": "markdown",
   "source": [
    "The API allows you to list all of the feature layers for a location"
   ],
   "metadata": {}
  },
  {
   "cell_type": "code",
   "execution_count": null,
   "source": [
    "from arcgis.features import FeatureLayerCollection\r\n",
    "\r\n",
    "ftr_lyrs = FeatureLayerCollection('https://pdihosting.azurecloudgov.us/arcgis/rest/services/AgCROS/COFOARD4/FeatureServer')\r\n",
    "ftr_lyrs.layers"
   ],
   "outputs": [],
   "metadata": {}
  },
  {
   "cell_type": "markdown",
   "source": [
    "Find the table called \"MetaUnits_Unit\""
   ],
   "metadata": {}
  },
  {
   "cell_type": "code",
   "execution_count": null,
   "source": [
    "i = 0\r\n",
    "\r\n",
    "for ftr_lyr in ftr_lyrs.layers:\r\n",
    "    if ftr_lyr.properties.name == 'MetaUnits_Unit':\r\n",
    "        break\r\n",
    "    \r\n",
    "    i += 1"
   ],
   "outputs": [],
   "metadata": {}
  },
  {
   "cell_type": "markdown",
   "source": [
    "Display the number of records"
   ],
   "metadata": {}
  },
  {
   "cell_type": "code",
   "execution_count": null,
   "source": [
    "ftr_lyr = ftr_lyrs.layers[i]\r\n",
    "num_records = ftr_lyr.query(where='1=1', return_count_only=True)\r\n",
    "num_records"
   ],
   "outputs": [],
   "metadata": {}
  },
  {
   "cell_type": "markdown",
   "source": [
    "Display the first record's Unit ID"
   ],
   "metadata": {}
  },
  {
   "cell_type": "code",
   "execution_count": null,
   "source": [
    "records = ftr_lyr.query(where='1=1')\r\n",
    "records.features[0].attributes['unit_id']"
   ],
   "outputs": [],
   "metadata": {}
  },
  {
   "cell_type": "markdown",
   "source": [
    "Display the 5 records only (as a Spacial DataFrame). `return_all_records` must be set to False to set the record count"
   ],
   "metadata": {}
  },
  {
   "cell_type": "code",
   "execution_count": null,
   "source": [
    "records = ftr_lyr.query(where='1=1', return_geometry=False, return_all_records=False, result_record_count=5)\r\n",
    "records.sdf"
   ],
   "outputs": [],
   "metadata": {}
  },
  {
   "cell_type": "markdown",
   "source": [
    "Find the measurement or management layer with the most records, query it, and display it"
   ],
   "metadata": {}
  },
  {
   "cell_type": "code",
   "execution_count": null,
   "source": [
    "index = max_records_index = 0\r\n",
    "max_num_records = 0\r\n",
    "\r\n",
    "for ftr_lyr in ftr_lyrs.layers:\r\n",
    "    if ftr_lyr.properties.name.startswith('Meas') or ftr_lyr.properties.name.startswith('Mgt'):\r\n",
    "        num_records = ftr_lyr.query(where='1=1', return_count_only=True)\r\n",
    "\r\n",
    "        if num_records > max_num_records:\r\n",
    "            max_num_records = num_records\r\n",
    "            max_records_index = index\r\n",
    "\r\n",
    "    index += 1\r\n",
    "\r\n",
    "ftr_lyr = ftr_lyrs.layers[max_records_index]\r\n",
    "records = ftr_lyr.query(where='1=1', return_geometry=False)\r\n",
    "records.sdf"
   ],
   "outputs": [],
   "metadata": {}
  },
  {
   "cell_type": "markdown",
   "source": [
    "Query a subset of the records of the layer `MeasGHGFlux_Unit` (the layer with the most records) and save it to file"
   ],
   "metadata": {}
  },
  {
   "cell_type": "code",
   "execution_count": null,
   "source": [
    "import os\r\n",
    "\r\n",
    "records_df = ftr_lyr.query(where='1=1', return_geometry=False, return_all_records=False, result_record_count=2000, as_df=True)\r\n",
    "csv_path = os.path.join(r'C:\\Users\\Public\\Downloads', f'{ftr_lyr.properties.name}_subset.csv')\r\n",
    "records_df.to_csv(csv_path, index=False)"
   ],
   "outputs": [],
   "metadata": {}
  },
  {
   "cell_type": "markdown",
   "source": [
    "Export the full set of records as a CSV"
   ],
   "metadata": {}
  },
  {
   "cell_type": "code",
   "execution_count": null,
   "source": [
    "records_df = ftr_lyr.query(where='1=1', return_geometry=False, as_df=True)\r\n",
    "csv_path = os.path.join(r'C:\\Users\\Public\\Downloads', f'{ftr_lyr.properties.name}.csv')\r\n",
    "records_df.to_csv(csv_path, index=False)"
   ],
   "outputs": [],
   "metadata": {}
  },
  {
   "cell_type": "markdown",
   "source": [
    "Calculate basic statistics using the DataFrame"
   ],
   "metadata": {}
  },
  {
   "cell_type": "code",
   "execution_count": null,
   "source": [
    "mean = records_df['co2_gc_ha_d'].mean()\r\n",
    "print('Mean:', mean)\r\n",
    "\r\n",
    "median = records_df['co2_gc_ha_d'].median()\r\n",
    "print('Median:', median)"
   ],
   "outputs": [],
   "metadata": {}
  }
 ],
 "metadata": {
  "orig_nbformat": 4,
  "language_info": {
   "name": "python",
   "version": "3.7.9",
   "mimetype": "text/x-python",
   "codemirror_mode": {
    "name": "ipython",
    "version": 3
   },
   "pygments_lexer": "ipython3",
   "nbconvert_exporter": "python",
   "file_extension": ".py"
  },
  "kernelspec": {
   "name": "python3",
   "display_name": "Python 3.7.9 64-bit ('arcgis-py': conda)"
  },
  "interpreter": {
   "hash": "6279fcce6479bf9f0f4d8a46c046fde85393b428bf23f73747478dfa56b4c149"
  }
 },
 "nbformat": 4,
 "nbformat_minor": 2
}