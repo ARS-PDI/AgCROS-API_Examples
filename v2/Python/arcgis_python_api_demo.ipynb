{
 "cells": [
  {
   "cell_type": "markdown",
   "source": [
    "# ArcGIS Python API Demo File\r\n",
    "\r\n",
    "A short Jupyter Notebook showing how to query data from ArcGIS servers.\r\n",
    "\r\n",
    "ArcGIS API for Python Reference: [https://developers.arcgis.com/python/api-reference/index.html](https://developers.arcgis.com/python/api-reference/index.html)\r\n",
    "\r\n",
    "Author: Josh Birlingmair"
   ],
   "metadata": {}
  },
  {
   "cell_type": "markdown",
   "source": [
    "The API allows you to list all of the feature layers for a location"
   ],
   "metadata": {}
  },
  {
   "cell_type": "code",
   "execution_count": 2,
   "source": [
    "from arcgis.features import FeatureLayerCollection\r\n",
    "\r\n",
    "ftr_lyrs = FeatureLayerCollection('https://pdihosting.azurecloudgov.us/arcgis/rest/services/AgCROS/COFOARD4/FeatureServer')\r\n",
    "ftr_lyrs.layers"
   ],
   "outputs": [
    {
     "output_type": "execute_result",
     "data": {
      "text/plain": [
       "[<FeatureLayer url:\"https://pdihosting.azurecloudgov.us/arcgis/rest/services/AgCROS/COFOARD4/FeatureServer/0\">,\n",
       " <FeatureLayer url:\"https://pdihosting.azurecloudgov.us/arcgis/rest/services/AgCROS/COFOARD4/FeatureServer/1\">,\n",
       " <FeatureLayer url:\"https://pdihosting.azurecloudgov.us/arcgis/rest/services/AgCROS/COFOARD4/FeatureServer/2\">,\n",
       " <FeatureLayer url:\"https://pdihosting.azurecloudgov.us/arcgis/rest/services/AgCROS/COFOARD4/FeatureServer/3\">,\n",
       " <FeatureLayer url:\"https://pdihosting.azurecloudgov.us/arcgis/rest/services/AgCROS/COFOARD4/FeatureServer/4\">,\n",
       " <FeatureLayer url:\"https://pdihosting.azurecloudgov.us/arcgis/rest/services/AgCROS/COFOARD4/FeatureServer/5\">,\n",
       " <FeatureLayer url:\"https://pdihosting.azurecloudgov.us/arcgis/rest/services/AgCROS/COFOARD4/FeatureServer/6\">,\n",
       " <FeatureLayer url:\"https://pdihosting.azurecloudgov.us/arcgis/rest/services/AgCROS/COFOARD4/FeatureServer/7\">,\n",
       " <FeatureLayer url:\"https://pdihosting.azurecloudgov.us/arcgis/rest/services/AgCROS/COFOARD4/FeatureServer/8\">,\n",
       " <FeatureLayer url:\"https://pdihosting.azurecloudgov.us/arcgis/rest/services/AgCROS/COFOARD4/FeatureServer/9\">,\n",
       " <FeatureLayer url:\"https://pdihosting.azurecloudgov.us/arcgis/rest/services/AgCROS/COFOARD4/FeatureServer/10\">,\n",
       " <FeatureLayer url:\"https://pdihosting.azurecloudgov.us/arcgis/rest/services/AgCROS/COFOARD4/FeatureServer/11\">,\n",
       " <FeatureLayer url:\"https://pdihosting.azurecloudgov.us/arcgis/rest/services/AgCROS/COFOARD4/FeatureServer/12\">,\n",
       " <FeatureLayer url:\"https://pdihosting.azurecloudgov.us/arcgis/rest/services/AgCROS/COFOARD4/FeatureServer/13\">,\n",
       " <FeatureLayer url:\"https://pdihosting.azurecloudgov.us/arcgis/rest/services/AgCROS/COFOARD4/FeatureServer/14\">,\n",
       " <FeatureLayer url:\"https://pdihosting.azurecloudgov.us/arcgis/rest/services/AgCROS/COFOARD4/FeatureServer/15\">,\n",
       " <FeatureLayer url:\"https://pdihosting.azurecloudgov.us/arcgis/rest/services/AgCROS/COFOARD4/FeatureServer/16\">,\n",
       " <FeatureLayer url:\"https://pdihosting.azurecloudgov.us/arcgis/rest/services/AgCROS/COFOARD4/FeatureServer/17\">,\n",
       " <FeatureLayer url:\"https://pdihosting.azurecloudgov.us/arcgis/rest/services/AgCROS/COFOARD4/FeatureServer/18\">,\n",
       " <FeatureLayer url:\"https://pdihosting.azurecloudgov.us/arcgis/rest/services/AgCROS/COFOARD4/FeatureServer/19\">,\n",
       " <FeatureLayer url:\"https://pdihosting.azurecloudgov.us/arcgis/rest/services/AgCROS/COFOARD4/FeatureServer/20\">,\n",
       " <FeatureLayer url:\"https://pdihosting.azurecloudgov.us/arcgis/rest/services/AgCROS/COFOARD4/FeatureServer/21\">]"
      ]
     },
     "metadata": {},
     "execution_count": 2
    }
   ],
   "metadata": {}
  },
  {
   "cell_type": "markdown",
   "source": [
    "Find the table called \"MetaUnits_Unit\""
   ],
   "metadata": {}
  },
  {
   "cell_type": "code",
   "execution_count": 3,
   "source": [
    "i = 0\r\n",
    "\r\n",
    "for ftr_lyr in ftr_lyrs.layers:\r\n",
    "    if ftr_lyr.properties.name == 'MetaUnits_Unit':\r\n",
    "        break\r\n",
    "    \r\n",
    "    i += 1"
   ],
   "outputs": [],
   "metadata": {}
  },
  {
   "cell_type": "markdown",
   "source": [
    "Display the number of records"
   ],
   "metadata": {}
  },
  {
   "cell_type": "code",
   "execution_count": 4,
   "source": [
    "ftr_lyr = ftr_lyrs.layers[i]\r\n",
    "num_records = ftr_lyr.query(where='1=1', return_count_only=True)\r\n",
    "num_records"
   ],
   "outputs": [
    {
     "output_type": "execute_result",
     "data": {
      "text/plain": [
       "20"
      ]
     },
     "metadata": {},
     "execution_count": 4
    }
   ],
   "metadata": {}
  },
  {
   "cell_type": "markdown",
   "source": [
    "Display the first record's Unit ID"
   ],
   "metadata": {}
  },
  {
   "cell_type": "code",
   "execution_count": 5,
   "source": [
    "records = ftr_lyr.query(where='1=1')\r\n",
    "records.features[0].attributes['unit_id']"
   ],
   "outputs": [
    {
     "output_type": "execute_result",
     "data": {
      "text/plain": [
       "'COFOARD4_85A'"
      ]
     },
     "metadata": {},
     "execution_count": 5
    }
   ],
   "metadata": {}
  },
  {
   "cell_type": "markdown",
   "source": [
    "Display the 5 records only (as a Spacial DataFrame). `return_all_records` must be set to False to set the record count"
   ],
   "metadata": {}
  },
  {
   "cell_type": "code",
   "execution_count": 6,
   "source": [
    "records = ftr_lyr.query(where='1=1', return_geometry=False, return_all_records=False, result_record_count=5)\r\n",
    "records.sdf"
   ],
   "outputs": [
    {
     "output_type": "execute_result",
     "data": {
      "text/plain": [
       "   objectid_1       unit_id   site_id start_date   end_date keyword_list  \\\n",
       "0           1  COFOARD4_85A  COFOARD4 2012-03-20 2015-03-20         None   \n",
       "1           2  COFOARD4_85B  COFOARD4 2012-03-20 2015-03-20         None   \n",
       "2           3  COFOARD4_85C  COFOARD4 2012-03-20 2015-03-20         None   \n",
       "3           4  COFOARD4_85D  COFOARD4 2012-03-20 2015-03-20         None   \n",
       "4           5  COFOARD4_85D  COFOARD4 2012-03-20 2015-03-20         None   \n",
       "\n",
       "  unit_url location_id    location_name description   Shape__Area  \\\n",
       "0     None    COFOARD4  Fort Collins CO        None  6.019575e-09   \n",
       "1     None    COFOARD4  Fort Collins CO        None  6.019575e-09   \n",
       "2     None    COFOARD4  Fort Collins CO        None  4.302314e-09   \n",
       "3     None    COFOARD4  Fort Collins CO        None  4.353503e-09   \n",
       "4     None    COFOARD4  Fort Collins CO        None  4.353471e-09   \n",
       "\n",
       "   Shape__Length SHAPE  \n",
       "0       0.000375  None  \n",
       "1       0.000375  None  \n",
       "2       0.000291  None  \n",
       "3       0.000292  None  \n",
       "4       0.000292  None  "
      ],
      "text/html": [
       "<div>\n",
       "<style scoped>\n",
       "    .dataframe tbody tr th:only-of-type {\n",
       "        vertical-align: middle;\n",
       "    }\n",
       "\n",
       "    .dataframe tbody tr th {\n",
       "        vertical-align: top;\n",
       "    }\n",
       "\n",
       "    .dataframe thead th {\n",
       "        text-align: right;\n",
       "    }\n",
       "</style>\n",
       "<table border=\"1\" class=\"dataframe\">\n",
       "  <thead>\n",
       "    <tr style=\"text-align: right;\">\n",
       "      <th></th>\n",
       "      <th>objectid_1</th>\n",
       "      <th>unit_id</th>\n",
       "      <th>site_id</th>\n",
       "      <th>start_date</th>\n",
       "      <th>end_date</th>\n",
       "      <th>keyword_list</th>\n",
       "      <th>unit_url</th>\n",
       "      <th>location_id</th>\n",
       "      <th>location_name</th>\n",
       "      <th>description</th>\n",
       "      <th>Shape__Area</th>\n",
       "      <th>Shape__Length</th>\n",
       "      <th>SHAPE</th>\n",
       "    </tr>\n",
       "  </thead>\n",
       "  <tbody>\n",
       "    <tr>\n",
       "      <th>0</th>\n",
       "      <td>1</td>\n",
       "      <td>COFOARD4_85A</td>\n",
       "      <td>COFOARD4</td>\n",
       "      <td>2012-03-20</td>\n",
       "      <td>2015-03-20</td>\n",
       "      <td>None</td>\n",
       "      <td>None</td>\n",
       "      <td>COFOARD4</td>\n",
       "      <td>Fort Collins CO</td>\n",
       "      <td>None</td>\n",
       "      <td>6.019575e-09</td>\n",
       "      <td>0.000375</td>\n",
       "      <td>None</td>\n",
       "    </tr>\n",
       "    <tr>\n",
       "      <th>1</th>\n",
       "      <td>2</td>\n",
       "      <td>COFOARD4_85B</td>\n",
       "      <td>COFOARD4</td>\n",
       "      <td>2012-03-20</td>\n",
       "      <td>2015-03-20</td>\n",
       "      <td>None</td>\n",
       "      <td>None</td>\n",
       "      <td>COFOARD4</td>\n",
       "      <td>Fort Collins CO</td>\n",
       "      <td>None</td>\n",
       "      <td>6.019575e-09</td>\n",
       "      <td>0.000375</td>\n",
       "      <td>None</td>\n",
       "    </tr>\n",
       "    <tr>\n",
       "      <th>2</th>\n",
       "      <td>3</td>\n",
       "      <td>COFOARD4_85C</td>\n",
       "      <td>COFOARD4</td>\n",
       "      <td>2012-03-20</td>\n",
       "      <td>2015-03-20</td>\n",
       "      <td>None</td>\n",
       "      <td>None</td>\n",
       "      <td>COFOARD4</td>\n",
       "      <td>Fort Collins CO</td>\n",
       "      <td>None</td>\n",
       "      <td>4.302314e-09</td>\n",
       "      <td>0.000291</td>\n",
       "      <td>None</td>\n",
       "    </tr>\n",
       "    <tr>\n",
       "      <th>3</th>\n",
       "      <td>4</td>\n",
       "      <td>COFOARD4_85D</td>\n",
       "      <td>COFOARD4</td>\n",
       "      <td>2012-03-20</td>\n",
       "      <td>2015-03-20</td>\n",
       "      <td>None</td>\n",
       "      <td>None</td>\n",
       "      <td>COFOARD4</td>\n",
       "      <td>Fort Collins CO</td>\n",
       "      <td>None</td>\n",
       "      <td>4.353503e-09</td>\n",
       "      <td>0.000292</td>\n",
       "      <td>None</td>\n",
       "    </tr>\n",
       "    <tr>\n",
       "      <th>4</th>\n",
       "      <td>5</td>\n",
       "      <td>COFOARD4_85D</td>\n",
       "      <td>COFOARD4</td>\n",
       "      <td>2012-03-20</td>\n",
       "      <td>2015-03-20</td>\n",
       "      <td>None</td>\n",
       "      <td>None</td>\n",
       "      <td>COFOARD4</td>\n",
       "      <td>Fort Collins CO</td>\n",
       "      <td>None</td>\n",
       "      <td>4.353471e-09</td>\n",
       "      <td>0.000292</td>\n",
       "      <td>None</td>\n",
       "    </tr>\n",
       "  </tbody>\n",
       "</table>\n",
       "</div>"
      ]
     },
     "metadata": {},
     "execution_count": 6
    }
   ],
   "metadata": {}
  },
  {
   "cell_type": "markdown",
   "source": [
    "Find the measurement or management layer with the most records, query it, and display it"
   ],
   "metadata": {}
  },
  {
   "cell_type": "code",
   "execution_count": null,
   "source": [
    "index = max_records_index = 0\r\n",
    "max_num_records = 0\r\n",
    "\r\n",
    "for ftr_lyr in ftr_lyrs.layers:\r\n",
    "    if ftr_lyr.properties.name.startswith('Meas') or ftr_lyr.properties.name.startswith('Mgt'):\r\n",
    "        num_records = ftr_lyr.query(where='1=1', return_count_only=True)\r\n",
    "\r\n",
    "        if num_records > max_num_records:\r\n",
    "            max_num_records = num_records\r\n",
    "            max_records_index = index\r\n",
    "\r\n",
    "    index += 1\r\n",
    "\r\n",
    "ftr_lyr = ftr_lyrs.layers[max_records_index]\r\n",
    "records = ftr_lyr.query(where='1=1', return_geometry=False)\r\n",
    "records.sdf"
   ],
   "outputs": [],
   "metadata": {}
  },
  {
   "cell_type": "markdown",
   "source": [
    "Query a subset of the records of the layer `MeasGHGFlux_Unit` (the layer with the most records) and save it to file"
   ],
   "metadata": {}
  },
  {
   "cell_type": "code",
   "execution_count": null,
   "source": [
    "import os\r\n",
    "\r\n",
    "records_df = ftr_lyr.query(where='1=1', return_geometry=False, return_all_records=False, result_record_count=2000, as_df=True)\r\n",
    "csv_path = os.path.join(r'C:\\Users\\Public\\Downloads', f'{ftr_lyr.properties.name}_subset.csv')\r\n",
    "records_df.to_csv(csv_path, index=False)"
   ],
   "outputs": [],
   "metadata": {}
  },
  {
   "cell_type": "markdown",
   "source": [
    "Calculate basic statistics of a subset (2,000 records) of the table using the DataFrame"
   ],
   "metadata": {}
  },
  {
   "cell_type": "code",
   "execution_count": null,
   "source": [
    "mean = records_df['co2_gc_ha_d'].mean()\r\n",
    "print('Mean:', mean)\r\n",
    "\r\n",
    "median = records_df['co2_gc_ha_d'].median()\r\n",
    "print('Median:', median)"
   ],
   "outputs": [
    {
     "output_type": "error",
     "ename": "NameError",
     "evalue": "name 'records_df' is not defined",
     "traceback": [
      "\u001b[1;31m---------------------------------------------------------------------------\u001b[0m",
      "\u001b[1;31mNameError\u001b[0m                                 Traceback (most recent call last)",
      "\u001b[1;32mC:\\Users\\JOSH~1.BIR\\AppData\\Local\\Temp/ipykernel_16516/4141906547.py\u001b[0m in \u001b[0;36m<module>\u001b[1;34m\u001b[0m\n\u001b[1;32m----> 1\u001b[1;33m \u001b[0mmean\u001b[0m \u001b[1;33m=\u001b[0m \u001b[0mrecords_df\u001b[0m\u001b[1;33m[\u001b[0m\u001b[1;34m'co2_gc_ha_d'\u001b[0m\u001b[1;33m]\u001b[0m\u001b[1;33m.\u001b[0m\u001b[0mmean\u001b[0m\u001b[1;33m(\u001b[0m\u001b[1;33m)\u001b[0m\u001b[1;33m\u001b[0m\u001b[1;33m\u001b[0m\u001b[0m\n\u001b[0m\u001b[0;32m      2\u001b[0m \u001b[0mprint\u001b[0m\u001b[1;33m(\u001b[0m\u001b[1;34m'Mean:'\u001b[0m\u001b[1;33m,\u001b[0m \u001b[0mmean\u001b[0m\u001b[1;33m)\u001b[0m\u001b[1;33m\u001b[0m\u001b[1;33m\u001b[0m\u001b[0m\n\u001b[0;32m      3\u001b[0m \u001b[1;33m\u001b[0m\u001b[0m\n\u001b[0;32m      4\u001b[0m \u001b[0mmedian\u001b[0m \u001b[1;33m=\u001b[0m \u001b[0mrecords_df\u001b[0m\u001b[1;33m[\u001b[0m\u001b[1;34m'co2_gc_ha_d'\u001b[0m\u001b[1;33m]\u001b[0m\u001b[1;33m.\u001b[0m\u001b[0mmedian\u001b[0m\u001b[1;33m(\u001b[0m\u001b[1;33m)\u001b[0m\u001b[1;33m\u001b[0m\u001b[1;33m\u001b[0m\u001b[0m\n\u001b[0;32m      5\u001b[0m \u001b[0mprint\u001b[0m\u001b[1;33m(\u001b[0m\u001b[1;34m'Median:'\u001b[0m\u001b[1;33m,\u001b[0m \u001b[0mmedian\u001b[0m\u001b[1;33m)\u001b[0m\u001b[1;33m\u001b[0m\u001b[1;33m\u001b[0m\u001b[0m\n",
      "\u001b[1;31mNameError\u001b[0m: name 'records_df' is not defined"
     ]
    }
   ],
   "metadata": {}
  },
  {
   "cell_type": "markdown",
   "source": [
    "Export the full set of records as a CSV"
   ],
   "metadata": {}
  },
  {
   "cell_type": "code",
   "execution_count": null,
   "source": [
    "records_df = ftr_lyr.query(where='1=1', return_geometry=False, as_df=True)\r\n",
    "csv_path = os.path.join(r'C:\\Users\\Public\\Downloads', f'{ftr_lyr.properties.name}.csv')\r\n",
    "records_df.to_csv(csv_path, index=False)"
   ],
   "outputs": [],
   "metadata": {}
  },
  {
   "cell_type": "markdown",
   "source": [
    "Calculate basic statistics of the entire table using the DataFrame"
   ],
   "metadata": {}
  },
  {
   "cell_type": "code",
   "execution_count": null,
   "source": [
    "mean = records_df['co2_gc_ha_d'].mean()\r\n",
    "print('Mean:', mean)\r\n",
    "\r\n",
    "median = records_df['co2_gc_ha_d'].median()\r\n",
    "print('Median:', median)"
   ],
   "outputs": [],
   "metadata": {}
  }
 ],
 "metadata": {
  "orig_nbformat": 4,
  "language_info": {
   "name": "python",
   "version": "3.7.9",
   "mimetype": "text/x-python",
   "codemirror_mode": {
    "name": "ipython",
    "version": 3
   },
   "pygments_lexer": "ipython3",
   "nbconvert_exporter": "python",
   "file_extension": ".py"
  },
  "kernelspec": {
   "name": "python3",
   "display_name": "Python 3.7.9 64-bit ('arcgis-py': conda)"
  },
  "interpreter": {
   "hash": "6279fcce6479bf9f0f4d8a46c046fde85393b428bf23f73747478dfa56b4c149"
  }
 },
 "nbformat": 4,
 "nbformat_minor": 2
}